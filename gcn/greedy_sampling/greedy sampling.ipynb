{
 "cells": [
  {
   "cell_type": "code",
   "execution_count": 1,
   "metadata": {},
   "outputs": [],
   "source": [
    "import numpy as np\n",
    "import networkx as nx\n",
    "from itertools import combinations\n",
    "from random import randrange\n",
    "import matplotlib.pyplot as plt \n",
    "from numpy.linalg import inv\n",
    "import scipy.sparse as sp\n",
    "np.set_printoptions(precision=3)"
   ]
  },
  {
   "cell_type": "code",
   "execution_count": 2,
   "metadata": {},
   "outputs": [],
   "source": [
    "def normalize_adj(adj):\n",
    "    \"\"\"Symmetrically normalize adjacency matrix.\"\"\"\n",
    "    adj = sp.coo_matrix(adj)\n",
    "    rowsum = np.array(adj.sum(1))\n",
    "    d_inv_sqrt = np.power(rowsum, -0.5).flatten()\n",
    "    d_inv_sqrt[np.isinf(d_inv_sqrt)] = 0.\n",
    "    d_mat_inv_sqrt = sp.diags(d_inv_sqrt)\n",
    "    return adj.dot(d_mat_inv_sqrt).transpose().dot(d_mat_inv_sqrt).toarray()\n",
    "\n",
    "def get_sparse_eigen_decomposition(graph, K):\n",
    "    adj = nx.adjacency_matrix(graph).toarray()\n",
    "    normalized_adj = normalize_adj(adj)\n",
    "    eigenval,eigenvectors  = np.linalg.eig(normalized_adj)\n",
    "    \n",
    "    eigenval_Ksparse = np.argsort(eigenval)[-K:]\n",
    "    V_ksparse = np.zeros(adj.shape)\n",
    "    V_ksparse[:,eigenval_Ksparse] = eigenvectors[:,eigenval_Ksparse]\n",
    "    \n",
    "    V_ksparse = np.matrix(V_ksparse)\n",
    "    V_ksparse_H = V_ksparse.getH()\n",
    "    \n",
    "    return V_ksparse, V_ksparse_H\n",
    "\n",
    "def plot_graph(graph):\n",
    "    nx.draw_shell(graph,with_labels=True,)\n",
    "    \n",
    "def get_random_undirected_graph(N):\n",
    "    random_undirected_graph=nx.Graph()\n",
    "    for node_pair in combinations(range(N), 2):\n",
    "        if randrange(5) == 1:\n",
    "             random_undirected_graph.add_edge(node_pair[0],node_pair[1])\n",
    "    return random_undirected_graph\n",
    "\n",
    "def get_H(num_nodes):\n",
    "    H =  np.matrix(np.identity(num_nodes))\n",
    "    H_h = H.getH()\n",
    "    return H, H_h\n",
    "\n",
    "def get_W(VH, H_h, H, V):\n",
    "    a = np.matmul(VH, H_h)\n",
    "    b =  np.matmul(a, H)\n",
    "    W = np.matmul(b, V) \n",
    "    return W \n",
    "\n",
    "def get_random_signal_from_cov(cov_matrix, mean):\n",
    "    return np.random.multivariate_normal(mean, cov_matrix)\n",
    "\n",
    "def argmax(K,remaining_node):\n",
    "    u = (0,-1) # score, index\n",
    "    for candidate in remaining_node:\n",
    "        v_u = V_ksparse_H[:,candidate]\n",
    "        v_u_H = V_ksparse[candidate,:]\n",
    "        a = (v_u_H * K)\n",
    "        numerator = (((a * W) * K) * v_u)\n",
    "        lamda_inv = 1.0 / float(cov_w[candidate][candidate]) # get lam^(-1)_w,u should always be the same\n",
    "        denumerator = lamda_inv + (a * v_u)\n",
    "        score = numerator/denumerator\n",
    "        if score > u[0]:\n",
    "            u = (score, candidate)\n",
    "    return u[1]\n",
    "\n",
    "def update_K(K, u): #Should be O(K^2)\n",
    "    v_u = V_ksparse_H[:,u]\n",
    "    v_u_H = V_ksparse[u,:]\n",
    "    numerator = (((K * v_u) * v_u_H)* K)\n",
    "    lamda_inv = 1.0 / float(cov_w[u][u]) # get lam^(-1)_w,u should always be the same\n",
    "    denumerator = lamda_inv + ((v_u_H * K) * v_u)\n",
    "    matrix = numerator/denumerator\n",
    "    x = (W * matrix)\n",
    "    return K - x\n",
    "\n",
    "def greedy_algo():\n",
    "    G_subset = []\n",
    "    remaining_node = list(range(0,NUM_NODES))\n",
    "    K = cov_x\n",
    "    for j in l:\n",
    "        u = argmax(K,remaining_node)\n",
    "        K = update_K(K, u)\n",
    "        G_subset.append(u)\n",
    "        remaining_node.remove(u)\n",
    "    return G_subset, K\n",
    "\n",
    "def get_upper_bound_trace_K():\n",
    "    upper_bound_matrix = np.matrix(W * cov_x)\n",
    "    return float(upper_bound_matrix.trace())\n",
    "\n",
    "def get_K_trace(possible_set):\n",
    "    inv_cov_x = inv(cov_x)\n",
    "    for i in possible_set:\n",
    "        v_i = V_ksparse_H[:,i]\n",
    "        v_i_H = V_ksparse[i,:]\n",
    "        lamda_inv = 1.0 / float(cov_w[i][i]) \n",
    "        inv_cov_x = inv_cov_x + lamda_inv * (v_i * v_i_H)\n",
    "    K = np.matrix((((H * V_ksparse) * inv(inv_cov_x)) * V_ksparse_H) * H_h)\n",
    "    return float(K.trace())\n",
    "\n",
    "def brute_force_algo():\n",
    "    rank = {}\n",
    "    min_set = []\n",
    "    optimal_K_T = get_upper_bound_trace_K()\n",
    "    all_possible_set_combination = combinations(range(NUM_NODES), number_node_sampled)\n",
    "    for possible_set in all_possible_set_combination:\n",
    "        score = get_K_trace(possible_set)\n",
    "        rank[str(list(possible_set))] = score\n",
    "        if score <= optimal_K_T:\n",
    "            optimal_K_T = score\n",
    "            min_set = possible_set\n",
    "    return optimal_K_T, min_set, rank"
   ]
  },
  {
   "cell_type": "code",
   "execution_count": 3,
   "metadata": {},
   "outputs": [],
   "source": [
    "NUM_NODES  = 20\n",
    "NOISE_CONSTANT = 10e2\n",
    "K_sparse = 5\n",
    "MEAN = np.zeros((NUM_NODES,))\n",
    "number_node_sampled = 5"
   ]
  },
  {
   "cell_type": "code",
   "execution_count": 4,
   "metadata": {},
   "outputs": [],
   "source": [
    "def get_relative_suboptimality(optimal_K_T, f_K_T, empty_K_T):\n",
    "    \n",
    "    return (f_K_T - optimal_K_T) / (empty_K_T - optimal_K_T)"
   ]
  },
  {
   "cell_type": "code",
   "execution_count": 46,
   "metadata": {},
   "outputs": [
    {
     "name": "stderr",
     "output_type": "stream",
     "text": [
      "/usr/local/lib/python3.5/dist-packages/ipykernel_launcher.py:17: ComplexWarning: Casting complex values to real discards the imaginary part\n"
     ]
    }
   ],
   "source": [
    "relative_sub_Erdos_greedy = []\n",
    "relative_sub_Erdos_randomized = []\n",
    "for simul in range(10):\n",
    "    graph = get_random_undirected_graph(NUM_NODES)\n",
    "    while(len(graph.nodes()) < NUM_NODES):\n",
    "        graph = get_random_undirected_graph(NUM_NODES)\n",
    "    V_ksparse, V_ksparse_H = get_sparse_eigen_decomposition(graph, K_sparse)\n",
    "    H, H_h = get_H(NUM_NODES)\n",
    "\n",
    "    cov_w = NOISE_CONSTANT * np.identity(NUM_NODES)\n",
    "    cov_x = np.identity(NUM_NODES)\n",
    "\n",
    "    x = get_random_signal_from_cov(cov_x, MEAN)\n",
    "    w = get_random_signal_from_cov(cov_w, MEAN)\n",
    "    y = x + w\n",
    "\n",
    "    W = get_W(V_ksparse_H, H_h, H, V_ksparse)\n",
    "    l = range(1,(number_node_sampled + 1))\n",
    "    G_subset, K = greedy_algo()\n",
    "    \n",
    "    empty_set = get_K_trace([])\n",
    "    optimal_K_T, min_set, rank = brute_force_algo()\n",
    "    \n",
    "    relative_sub_Erdos_greedy.append(get_relative_suboptimality(optimal_K_T, rank[str(list(sorted(G_subset)))]), empty_set)\n",
    "    relative_sub_Erdos_randomized.append(get_relative_suboptimality(optimal_K_T, rank[str(list(sorted(G_subset)))]), empty_set))"
   ]
  },
  {
   "cell_type": "code",
   "execution_count": null,
   "metadata": {},
   "outputs": [],
   "source": []
  },
  {
   "cell_type": "code",
   "execution_count": 47,
   "metadata": {},
   "outputs": [
    {
     "data": {
      "image/png": "[encoded data removed]",
      "text/plain": [
       "<matplotlib.figure.Figure at 0x7fae79f86748>"
      ]
     },
     "metadata": {},
     "output_type": "display_data"
    }
   ],
   "source": [
    "import matplotlib.patches as mpatches\n",
    "from matplotlib import colors\n",
    "import matplotlib.pyplot as plt\n",
    "import scipy.stats as stats\n",
    "\n",
    "n_bins = 30\n",
    "fig, axs = plt.subplots(1, 3, sharey=True)\n",
    "axs[0].set_ylabel('Count')\n",
    "axs[0].hist(relative_sub_Erdos_greedy, bins=n_bins)\n",
    "axs[0].set_title(\"Erdos-Renyi\")\n",
    "\n",
    "axs[1].set_ylabel('Count')\n",
    "axs[1].hist(relative_sub, bins=n_bins)\n",
    "axs[1].set_title(\"Pref. attachment\")\n",
    "\n",
    "axs[2].set_ylabel('Count')\n",
    "axs[2].hist(relative_sub, bins=n_bins)\n",
    "axs[2].set_title(\"Random\")\n",
    "fig.tight_layout()\n",
    "\n",
    "plt.subplots_adjust(top=0.92, bottom=0.08, left=0.10, right=3, hspace=0.5,\n",
    "                     wspace=0.3)\n",
    "\n",
    "plt.show()"
   ]
  },
  {
   "cell_type": "code",
   "execution_count": null,
   "metadata": {},
   "outputs": [],
   "source": []
  },
  {
   "cell_type": "code",
   "execution_count": null,
   "metadata": {},
   "outputs": [],
   "source": []
  },
  {
   "cell_type": "code",
   "execution_count": null,
   "metadata": {},
   "outputs": [],
   "source": []
  }
 ],
 "metadata": {
  "kernelspec": {
   "display_name": "Python 3",
   "language": "python",
   "name": "python3"
  },
  "language_info": {
   "codemirror_mode": {
    "name": "ipython",
    "version": 3
   },
   "file_extension": ".py",
   "mimetype": "text/x-python",
   "name": "python",
   "nbconvert_exporter": "python",
   "pygments_lexer": "ipython3",
   "version": "3.5.2"
  }
 },
 "nbformat": 4,
 "nbformat_minor": 2
}
